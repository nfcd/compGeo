{
 "cells": [
  {
   "cell_type": "markdown",
   "metadata": {},
   "source": [
    "# Introduction to Python and Jupyter Notebooks"
   ]
  },
  {
   "cell_type": "markdown",
   "metadata": {},
   "source": [
    "This is a quick introduction to the Python programming language and the Jupyter Notebook framework. Notebooks let you run Python code interactively in a browser. We assume no prior programming experience, though if you have used MATLAB previously, you will find the Python syntax very similar. \n",
    "\n",
    "This notebook will only cover the basics of Python, with emphasis on features needed for this resource. However, Python is a popular general-purpose programming language used in a wide variety of projects and industries. Did you know that Dropbox and Spotify are mainly written in Python? "
   ]
  },
  {
   "cell_type": "markdown",
   "metadata": {},
   "source": [
    "## Basics"
   ]
  },
  {
   "cell_type": "markdown",
   "metadata": {},
   "source": [
    "A notebook is divided into computational units called \"cells\". Cells can contain text such as this one or Python code. Below is a cell with some common Python statements. Try changing the variables and re-run the cell. To run a cell, either click the \"Run\" button above, or type Ctrl+Enter."
   ]
  },
  {
   "cell_type": "code",
   "execution_count": 1,
   "metadata": {},
   "outputs": [
    {
     "name": "stdout",
     "output_type": "stream",
     "text": [
      "The sum is:  11.0\n",
      "Hello, my name is Donald\n"
     ]
    }
   ],
   "source": [
    "a = 2\n",
    "b = 9.0\n",
    "c = a + b\n",
    "print(\"The sum is: \", c)\n",
    "\n",
    "# This is just a comment\n",
    "\n",
    "name = \"Donald\"\n",
    "print(\"Hello, my name is\", name)"
   ]
  },
  {
   "cell_type": "markdown",
   "metadata": {},
   "source": [
    "There are some other useful shortcuts you should know. To run a cell and move to the next cell, type Shift+Enter. To run a cell and insert a new cell below, type Alt+Enter. You can use the arrow keys to move quickly between cells. To run all the cells of a notebook, choose the `Cell` -> `Run All` menu."
   ]
  },
  {
   "cell_type": "markdown",
   "metadata": {},
   "source": [
    "### Conditionals\n",
    "A conditional is used to decide between different operations depending on a conditional statement. In Python, this is expressed in the following way:"
   ]
  },
  {
   "cell_type": "code",
   "execution_count": 2,
   "metadata": {},
   "outputs": [
    {
     "name": "stdout",
     "output_type": "stream",
     "text": [
      "a is smaller than b\n"
     ]
    }
   ],
   "source": [
    "a = 3\n",
    "b = 5\n",
    "if a > b:\n",
    "    print(\"a is bigger than b\")\n",
    "elif a < b:    \n",
    "    print(\"a is smaller than b\")\n",
    "else:\n",
    "    print(\"a is equal to b\")"
   ]
  },
  {
   "cell_type": "markdown",
   "metadata": {},
   "source": [
    "Try changing the values of `a` and `b` to see how the output changes. Also, note that Python cares about the indentation of the line, so there must be a tab indent or 4 spaces for each operation in the `if` statement. If not you will get an error as shown here: \n"
   ]
  },
  {
   "cell_type": "code",
   "execution_count": null,
   "metadata": {},
   "outputs": [],
   "source": [
    "if a==b:\n",
    "c = 3"
   ]
  },
  {
   "cell_type": "markdown",
   "metadata": {},
   "source": [
    "You can also use the logical operators `and`, `or` and `not` in the conditional statement:"
   ]
  },
  {
   "cell_type": "code",
   "execution_count": 3,
   "metadata": {},
   "outputs": [
    {
     "name": "stdout",
     "output_type": "stream",
     "text": [
      "You are a young adult\n"
     ]
    }
   ],
   "source": [
    "age = 30\n",
    "if age > 18 and age < 34:\n",
    "    print(\"You are a young adult\")\n",
    "\n",
    "if age < 18 or age > 80:\n",
    "    print(\"You are not allowed to drive a car\")"
   ]
  },
  {
   "cell_type": "markdown",
   "metadata": {},
   "source": [
    "### Loops\n",
    "A loop is used to execute a group of statements multiple times. For instance, to print all numbers from 1 to 10 divisible by 3, we can use a `for` loop together with an `if` statement, and the modulus operator, `%`:"
   ]
  },
  {
   "cell_type": "code",
   "execution_count": 4,
   "metadata": {},
   "outputs": [
    {
     "name": "stdout",
     "output_type": "stream",
     "text": [
      "Numbers divisible by three:\n",
      "3\n",
      "6\n",
      "9\n"
     ]
    }
   ],
   "source": [
    "print(\"Numbers divisible by three:\")\n",
    "for i in range(1, 11):\n",
    "    if i % 3 == 0:\n",
    "        print(i)"
   ]
  },
  {
   "cell_type": "markdown",
   "metadata": {},
   "source": [
    "`range` is a Python function that iterates from the given first number up to the second number, but without including this number. If we only give one number, the iteration will go from zero up to the given number - 1. We will give more examples of `for` loops later in this notebook."
   ]
  },
  {
   "cell_type": "markdown",
   "metadata": {},
   "source": [
    "### Functions and modules"
   ]
  },
  {
   "cell_type": "markdown",
   "metadata": {},
   "source": [
    "If we have written a useful piece of code, we often want to use it again without copying and pasting the code multiple times. To do this, we use functions and modules. For instance, if we want to convert an angle from degrees to radians, we can use the following formula, \n",
    "\\begin{equation}\n",
    "    \\alpha_\\text{radians} = \\alpha_\\text{degrees}\\frac{\\pi}{180}\n",
    "\\end{equation}    \n",
    "To put this into a callable function, we use the `def` keyword:"
   ]
  },
  {
   "cell_type": "code",
   "execution_count": 5,
   "metadata": {},
   "outputs": [
    {
     "name": "stdout",
     "output_type": "stream",
     "text": [
      "Radians = 0.785398\n"
     ]
    }
   ],
   "source": [
    "def deg_to_rad(angle_degrees):\n",
    "    pi = 3.141592\n",
    "    return pi*angle_degrees/180.0\n",
    "\n",
    "angle_degrees = 45.0\n",
    "print(f\"Radians = {deg_to_rad(angle_degrees)}\")"
   ]
  },
  {
   "cell_type": "markdown",
   "metadata": {},
   "source": [
    "We can also include code from other places. This is useful to make your own library of functions that you can then use in any code.This is the modus operandi of this resource. We will implement and use functions to solve interesting problems in geosciences. Using a text editor, create a file called mylib.py and put it in the same folder the notebook is. In the file, write two functions to convert from degrees to radians, and from radians to degrees:\n",
    "```python\n",
    "def deg_to_rad(angle_degrees):\n",
    "    pi = 3.141592\n",
    "    return pi*angle_degrees/180\n",
    "    \n",
    "def rad_to_deg(angle_radians):\n",
    "    pi = 3.141592\n",
    "    return angle_radians*180/pi\n",
    "```\n",
    "A file like this is called a `module`, and it can contain one or several functions. We can then import in the notebook the module and use its functions like this:"
   ]
  },
  {
   "cell_type": "code",
   "execution_count": 6,
   "metadata": {},
   "outputs": [
    {
     "name": "stdout",
     "output_type": "stream",
     "text": [
      "45 degrees is 0.785398 radians\n",
      "0.785398 radians is 45.0 degrees\n"
     ]
    }
   ],
   "source": [
    "try:\n",
    "    import mylib\n",
    "\n",
    "    # degrees to radians\n",
    "    angle_degrees = 45\n",
    "    angle_radians = mylib.deg_to_rad(angle_degrees)\n",
    "    print(f\"{angle_degrees} degrees is {angle_radians} radians\")\n",
    "\n",
    "    # radians to degrees\n",
    "    angle_degrees = mylib.rad_to_deg(angle_radians)\n",
    "    print(f\"{angle_radians} radians is {angle_degrees} degrees\")\n",
    "    \n",
    "except ModuleNotFoundError:\n",
    "    print(\"Create a file called mylib.py\")"
   ]
  },
  {
   "cell_type": "markdown",
   "metadata": {},
   "source": [
    "_Note_: If you make a change in mylib.py, the changes will not be immediately available in the notebook and it needs to be restarted . To circumvent this, we can use the following commands to always reload imported modules:"
   ]
  },
  {
   "cell_type": "code",
   "execution_count": 7,
   "metadata": {},
   "outputs": [],
   "source": [
    "%load_ext autoreload\n",
    "%autoreload"
   ]
  },
  {
   "cell_type": "markdown",
   "metadata": {},
   "source": [
    "## Mathematics"
   ]
  },
  {
   "cell_type": "markdown",
   "metadata": {},
   "source": [
    "To use Python as an environment for numerical mathematics, it is useful to use the `numpy` library for arrays and matrices, and the `matplotlib` library for plotting. See the links in the `Help` menu above for more information on these libraries. The following two lines import these libraries. "
   ]
  },
  {
   "cell_type": "code",
   "execution_count": 8,
   "metadata": {},
   "outputs": [],
   "source": [
    "import numpy as np\n",
    "import matplotlib.pyplot as plt"
   ]
  },
  {
   "cell_type": "markdown",
   "metadata": {},
   "source": [
    "To define an array, we use the `numpy` `array` function:"
   ]
  },
  {
   "cell_type": "code",
   "execution_count": 9,
   "metadata": {},
   "outputs": [
    {
     "name": "stdout",
     "output_type": "stream",
     "text": [
      "[1 2 3 4]\n"
     ]
    }
   ],
   "source": [
    "a = np.array( [1, 2, 3, 4] )\n",
    "print(a)"
   ]
  },
  {
   "cell_type": "markdown",
   "metadata": {},
   "source": [
    "To access an array element, we use brackets with the index of the element. A very important difference compared to Matlab is that in Python, the first element has index zero (like most other programming languages). We can also use negative indices to access values starting from the end of the array."
   ]
  },
  {
   "cell_type": "code",
   "execution_count": 10,
   "metadata": {},
   "outputs": [
    {
     "name": "stdout",
     "output_type": "stream",
     "text": [
      "1 3\n",
      "4\n"
     ]
    }
   ],
   "source": [
    "print(a[0], a[2])\n",
    "print(a[-1])"
   ]
  },
  {
   "cell_type": "markdown",
   "metadata": {},
   "source": [
    "Slicing is a very useful feature to extract subarrays. For instance, "
   ]
  },
  {
   "cell_type": "code",
   "execution_count": 11,
   "metadata": {},
   "outputs": [
    {
     "name": "stdout",
     "output_type": "stream",
     "text": [
      "[3 4]\n",
      "[2 3]\n"
     ]
    }
   ],
   "source": [
    "print(a[2:])\n",
    "print(a[1:3])"
   ]
  },
  {
   "cell_type": "markdown",
   "metadata": {},
   "source": [
    "Matrices are defined as multi-dimensional arrays."
   ]
  },
  {
   "cell_type": "code",
   "execution_count": 12,
   "metadata": {},
   "outputs": [
    {
     "name": "stdout",
     "output_type": "stream",
     "text": [
      "[[1 2 3]\n",
      " [4 5 6]\n",
      " [7 8 9]]\n",
      "[[2 4]\n",
      " [3 5]\n",
      " [5 7]]\n"
     ]
    }
   ],
   "source": [
    "a_matrix = np.array( [[1, 2, 3], \n",
    "                   [4, 5, 6], \n",
    "                   [7, 8, 9]] )\n",
    "b_matrix = np.array( [[2, 4],\n",
    "                   [3, 5],\n",
    "                   [5, 7]] )\n",
    "print(a_matrix)\n",
    "print(b_matrix)"
   ]
  },
  {
   "cell_type": "markdown",
   "metadata": {},
   "source": [
    "We can get the number of rows and columns from the `shape` method:"
   ]
  },
  {
   "cell_type": "code",
   "execution_count": 13,
   "metadata": {},
   "outputs": [
    {
     "name": "stdout",
     "output_type": "stream",
     "text": [
      "b has 3 rows and 2 columns\n"
     ]
    }
   ],
   "source": [
    "nrow, ncol = b_matrix.shape\n",
    "print(f\"b has {nrow} rows and {ncol} columns\")"
   ]
  },
  {
   "cell_type": "markdown",
   "metadata": {},
   "source": [
    "Let us make a function to multiply two matrices together. Considering an $n\\times m$ matrix $\\mathbf A$ and a $m\\times p$ matrix $\\mathbf B$. The formula to multiply these matrices can be written as:\n",
    "\n",
    "\\begin{equation}\n",
    " C_{ij} = \\sum_{k=1}^m A_{ik} B_{kj}\n",
    "\\end{equation}\n",
    "for $i = 1, ..., n$ and $j = 1, ..., p$. Here, $\\mathbf C$ will be a $n\\times p$ matrix.\n",
    "\n",
    "To implement this formula, we need to use a triple-nested loop, as shown in the function below:"
   ]
  },
  {
   "cell_type": "code",
   "execution_count": 14,
   "metadata": {},
   "outputs": [
    {
     "name": "stdout",
     "output_type": "stream",
     "text": [
      "[[ 23.  35.]\n",
      " [ 53.  83.]\n",
      " [ 83. 131.]]\n"
     ]
    }
   ],
   "source": [
    "def matrix_multiply(A,B):\n",
    "    n, m = A.shape\n",
    "    nrow_B, p = B.shape\n",
    "    \n",
    "    # Check that the matrices are conformable\n",
    "    if not nrow_B == m:\n",
    "        raise ValueError(\"Error: Number of columns in A\" \n",
    "                         \"must equal number of rows in B\")\n",
    "    \n",
    "    # Initialize C using the numpy zeros function\n",
    "    C = np.zeros((n, p))\n",
    "    \n",
    "    for i in range(n):\n",
    "        for j in range(p):\n",
    "            for k in range(m):\n",
    "                C[i,j] = C[i,j] + A[i,k]*B[k,j]\n",
    "                \n",
    "    return C\n",
    "\n",
    "print(matrix_multiply(a_matrix, b_matrix))"
   ]
  },
  {
   "cell_type": "markdown",
   "metadata": {},
   "source": [
    "Verify by hand calculation that the above result is correct. Remember, the element in the first row and first\n",
    "column of $\\mathbf C$ is equal to the sum of the product of the elements in the first row of $\\mathbf A$ times the elements in the first column of $\\mathbf B$, and so on.\n",
    "\n",
    "What happens if you try the multiplication $\\mathbf B \\mathbf A$? Try it in the cell below:"
   ]
  },
  {
   "cell_type": "code",
   "execution_count": null,
   "metadata": {},
   "outputs": [],
   "source": []
  },
  {
   "cell_type": "markdown",
   "metadata": {},
   "source": [
    "Although the above function is elegant, it is not very efficient. The `numpy` library contains super-optimized code for common operations such as matrix multiplication. The `numpy` `dot` function can be used for matrix multiplication. Let's repeat the matrix multiplication above using the `dot` function:"
   ]
  },
  {
   "cell_type": "code",
   "execution_count": 15,
   "metadata": {},
   "outputs": [
    {
     "name": "stdout",
     "output_type": "stream",
     "text": [
      "[[ 23  35]\n",
      " [ 53  83]\n",
      " [ 83 131]]\n"
     ]
    }
   ],
   "source": [
    "C = np.dot(a_matrix, b_matrix)\n",
    "print(C)"
   ]
  },
  {
   "cell_type": "markdown",
   "metadata": {},
   "source": [
    "When working with large matrices, there is a significant impact on the runtime. To illustrate this, let's generate two 100x100 matrices with random numbers. The `numpy` `random.rand` function generates the arrays and fill them with random numbers."
   ]
  },
  {
   "cell_type": "code",
   "execution_count": 16,
   "metadata": {},
   "outputs": [],
   "source": [
    "N = 100\n",
    "A = np.random.rand(N,N)\n",
    "B = np.random.rand(N,N)"
   ]
  },
  {
   "cell_type": "markdown",
   "metadata": {},
   "source": [
    "Now, let's measure the difference in execution time between multiplying these matrices with our function, or the `numpy` `dot` function. The `time` function allows us to measure the time taken by each function in seconds:"
   ]
  },
  {
   "cell_type": "code",
   "execution_count": 17,
   "metadata": {},
   "outputs": [
    {
     "name": "stdout",
     "output_type": "stream",
     "text": [
      "Our function time = 0.2843282222747803\n"
     ]
    }
   ],
   "source": [
    "import time\n",
    "start = time.time() # start time\n",
    "C = matrix_multiply(A,B)\n",
    "endt = time.time() # end time\n",
    "print(f\"Our function time = {endt-start}\")"
   ]
  },
  {
   "cell_type": "code",
   "execution_count": 18,
   "metadata": {},
   "outputs": [
    {
     "name": "stdout",
     "output_type": "stream",
     "text": [
      "Numpy dot function time = 0.015874147415161133\n"
     ]
    }
   ],
   "source": [
    "start = time.time() # start time\n",
    "C = np.dot(A,B)\n",
    "endt = time.time() # end time\n",
    "print(f\"Numpy dot function time = {endt-start}\")"
   ]
  },
  {
   "cell_type": "markdown",
   "metadata": {},
   "source": [
    "The `numpy` `dot` function is much faster than our function!"
   ]
  },
  {
   "cell_type": "markdown",
   "metadata": {},
   "source": [
    "### Plotting\n",
    "Arrays can be easily plotted using the `matplotlib` `plot` command. Below we plot the sinusoidal function. We use the `numpy` `linspace` function to generate an array with equally spaced values between the start and end point, and the `numpy` `sin` function to take the sine of the array. The `plot` command plots the data and the `show` command shows the plot. With a low number of points, the curve is actually jagged. Increase the number of points n in the `linspace` command to get a smoother curve. Try values of n = 100, 1000, and 10000."
   ]
  },
  {
   "cell_type": "code",
   "execution_count": 19,
   "metadata": {},
   "outputs": [
    {
     "data": {
      "image/png": "[encoded data removed]",
      "text/plain": [
       "<Figure size 640x480 with 1 Axes>"
      ]
     },
     "metadata": {},
     "output_type": "display_data"
    }
   ],
   "source": [
    "# The linspace command gives us an equally spaced array, the syntax is\n",
    "# linspace(start_point, end_point, number_of_points)\n",
    "n = 10\n",
    "x = np.linspace(0, 10, n)\n",
    "y = np.sin(x)\n",
    "plt.plot(x, y)\n",
    "plt.show()"
   ]
  },
  {
   "cell_type": "markdown",
   "metadata": {},
   "source": [
    "We end with a slightly more advanced plot, showing how to change line style and markers, and add axis labels and a legend. The `numpy` `cos` function takes the cosine of the array. The `plt.subplots` command makes a new figure and returns handles to the figure `fig` and axes `ax`. We can then use `ax` to plot the functions (`plot`), set the axes labels (`set_xlabel` and `set_ylabel`), and add a legend (`legend`). After showing the plot, the last line saves the figure as a png image. Try also different values of `n` to see how the plot changes:"
   ]
  },
  {
   "cell_type": "code",
   "execution_count": 20,
   "metadata": {},
   "outputs": [
    {
     "data": {
      "image/png": "[encoded data removed]",
      "text/plain": [
       "<Figure size 640x480 with 1 Axes>"
      ]
     },
     "metadata": {},
     "output_type": "display_data"
    }
   ],
   "source": [
    "n = 25\n",
    "x = np.linspace(0, 10,n)\n",
    "y = np.cos(x)\n",
    "# Make a figure\n",
    "fig, ax = plt.subplots()\n",
    "# plot cosine function as a red line\n",
    "ax.plot(x, y, \"r\", label=\"Cosine\")\n",
    "x = np.linspace(0,10,5)\n",
    "y = 0.01*x**2\n",
    "# plot quadratic funcion as blue dashed line with dots\n",
    "ax.plot(x,y,\"bo--\", label=\"Quadratic\")\n",
    "# label axes\n",
    "ax.set_xlabel(\"Time\")\n",
    "ax.set_ylabel(\"Amplitude\")\n",
    "# Add legend\n",
    "ax.legend()\n",
    "# show the plot\n",
    "plt.show()\n",
    "# Save the figure as a png with resolution 300 dpi\n",
    "fig.savefig(\"my_first_plot.png\", dpi=300)"
   ]
  }
 ],
 "metadata": {
  "kernelspec": {
   "display_name": "Python 3 (ipykernel)",
   "language": "python",
   "name": "python3"
  },
  "language_info": {
   "codemirror_mode": {
    "name": "ipython",
    "version": 3
   },
   "file_extension": ".py",
   "mimetype": "text/x-python",
   "name": "python",
   "nbconvert_exporter": "python",
   "pygments_lexer": "ipython3",
   "version": "3.11.5"
  }
 },
 "nbformat": 4,
 "nbformat_minor": 4
}
