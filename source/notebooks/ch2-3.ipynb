{
 "cells": [
  {
   "cell_type": "markdown",
   "metadata": {},
   "source": [
    "We have a coordinate pair defined in decimal degrees of latitude and longitude. The longitude is -120.108° and latitude is 34.36116666°. We want to make a coordinate conversion from latitude and longitude to Universal Transverse Mercator, where the point is defined by east and north coordinates in meters. To learn more about Universal Transverse Mercator (UTM), refer to (Snyder, 1987). In the code, we use the pyproj `Proj` function. We can only use `Proj` when making a coordinate conversion (i.e. the same datum). Run the code below."
   ]
  },
  {
   "cell_type": "code",
   "execution_count": 1,
   "metadata": {},
   "outputs": [
    {
     "name": "stdout",
     "output_type": "stream",
     "text": [
      "x=765975.641, y=3805993.134\n"
     ]
    }
   ],
   "source": [
    "# Import pyproj\n",
    "from pyproj import Proj\n",
    "\n",
    "# Construct the projection matrix\n",
    "p = Proj(proj=\"utm\",zone=10,ellps=\"WGS84\", \n",
    "         preserve_units=False)\n",
    "\n",
    "# Apply the projection to the lat-long point\n",
    "x,y = p(-120.108, 34.36116666)\n",
    "\n",
    "print(f\"x={x:9.3f}, y={y:11.3f}\")"
   ]
  },
  {
   "cell_type": "markdown",
   "metadata": {},
   "source": [
    "This is the same location but only expressed in meters (east and north) using the UTM coordinate reference system. The datum used is WGS84. We can convert the UTM coordinates back to latitute and longitude by adding two lines of code:"
   ]
  },
  {
   "cell_type": "code",
   "execution_count": 2,
   "metadata": {},
   "outputs": [
    {
     "name": "stdout",
     "output_type": "stream",
     "text": [
      "lon=-120.10800000, lat=34.36116666\n"
     ]
    }
   ],
   "source": [
    "# Apply the inverse of the projection matrix\n",
    "# to the point in UTM\n",
    "lon,lat = p(x,y,inverse=True)\n",
    "print(f\"lon={lon:8.8f}, lat={lat:5.8f}\")"
   ]
  },
  {
   "cell_type": "markdown",
   "metadata": {},
   "source": [
    "We can confirm that the inverse conversion arrives at the original pair. Let's now try converting several points of different latitude and longitude using a collection of objects in Python, or tuples. Add the following code:"
   ]
  },
  {
   "cell_type": "code",
   "execution_count": 3,
   "metadata": {},
   "outputs": [
    {
     "name": "stdout",
     "output_type": "stream",
     "text": [
      "(792763.8631257229, 925321.5373562573, 554714.3009414743) (4074377.6167697194, 3763936.9410883673, 4163835.3033114495)\n"
     ]
    }
   ],
   "source": [
    "# three points in lat-long\n",
    "lons = (-119.72,-118.40,-122.38)\n",
    "lats = (36.77, 33.93, 37.62 )\n",
    "# Apply the projection to the points\n",
    "x1,y1 = p(lons, lats)\n",
    "print(x1,y1)"
   ]
  },
  {
   "cell_type": "markdown",
   "metadata": {},
   "source": [
    "Now, let's do a more advanced exercise: In the cartographic community, an easy way to communicate the coordinate reference system is to use the EPSG Geodetic Parameter Data set. Every coordinate reference system is given a code. This ensures that if someone uses UTM zone 10 North with datum WGS-84 and tells you UTM zone 10, that you do not accidentally use UTM zone 10 North with datum GRS80, for example.\n",
    "\n",
    "Earlier in this exercise, we defined the UTM zone in the Proj function. Here, we will refer to the EPSG code. First, we will take a coordinate pair in longitude and latitude with datum WGS84 and convert it to EPSG:32667. Before proceeding, conduct a quick internet search on what EPSG:32667 means. This is important to understand what we will do next. The first part of the code is:"
   ]
  },
  {
   "cell_type": "code",
   "execution_count": 4,
   "metadata": {
    "scrolled": true
   },
   "outputs": [
    {
     "name": "stdout",
     "output_type": "stream",
     "text": [
      "x=-5851386.754, y=20320914.191 (feet)\n"
     ]
    }
   ],
   "source": [
    "# silence warnings\n",
    "import warnings \n",
    "warnings.simplefilter(\"ignore\")\n",
    "\n",
    "# initial coordinate conversion\n",
    "p = Proj(init=\"EPSG:32667\", preserve_units=True, \n",
    "         always_xy=True)\n",
    "# Apply the conversion to the lat-long point\n",
    "x,y = p(-114.057222, 51.045)\n",
    "print(f\"x={x:9.3f}, y={y:11.3f} (feet)\")"
   ]
  },
  {
   "cell_type": "markdown",
   "metadata": {},
   "source": [
    "Let’s dissect this as the pyproj code looks quite a bit different. The first part of the function `Proj` calls EPSG:32667. If you looked up EPSG:32667 online, you found that it is for UTM zone 17 North, but the units are in feet. The default mode for`Proj` is `preserve_units=False`, which forces any unit to meters. However, we want to see the units in US Survey Feet as the projection defines; therefore, we change the argument to `True`.\n",
    "\n",
    "Now, suppose we want to see the output in meters. How will you amend the code? Here is what you should add:"
   ]
  },
  {
   "cell_type": "code",
   "execution_count": 5,
   "metadata": {},
   "outputs": [
    {
     "name": "stdout",
     "output_type": "stream",
     "text": [
      "x=-1783506.250, y=6193827.033 (meters)\n"
     ]
    }
   ],
   "source": [
    "# Print the coordinate pair in meters\n",
    "p1 = Proj(init=\"EPSG:32667\", preserve_units=False)\n",
    "x1,y1 = p1(-114.057222, 51.045)\n",
    "print(f\"x={x1:9.3f}, y={y1:11.3f} (meters)\")"
   ]
  },
  {
   "cell_type": "markdown",
   "metadata": {},
   "source": [
    "As discussed, you should change to `preserve_units=False` and change the unit to be printed from `feet` to `meters`. Congratulations! You now have a good understanding of coordinate conversions."
   ]
  }
 ],
 "metadata": {
  "kernelspec": {
   "display_name": "Python 3 (ipykernel)",
   "language": "python",
   "name": "python3"
  },
  "language_info": {
   "codemirror_mode": {
    "name": "ipython",
    "version": 3
   },
   "file_extension": ".py",
   "mimetype": "text/x-python",
   "name": "python",
   "nbconvert_exporter": "python",
   "pygments_lexer": "ipython3",
   "version": "3.11.5"
  }
 },
 "nbformat": 4,
 "nbformat_minor": 4
}
