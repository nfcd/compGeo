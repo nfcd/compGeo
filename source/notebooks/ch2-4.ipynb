{
 "cells": [
  {
   "cell_type": "markdown",
   "metadata": {},
   "source": [
    "We will use the pyproj `CRS` and `transform` functions. The `CRS` function defines the coordinate reference system while`transform` specifies which coordinate reference system is the original and which is the output.`CRS` has the same ability to refer directly to an EPSG code.\n",
    "\n",
    "The input coordinates are in EPSG:4326, which is a commonly used code. It is the geographic coordinate system with datum WGS84. The output coordinates are EPSG:31984, which is for UTM zone 24 S with datum SIRGAS2000."
   ]
  },
  {
   "cell_type": "code",
   "execution_count": 1,
   "metadata": {},
   "outputs": [
    {
     "name": "stdout",
     "output_type": "stream",
     "text": [
      "x=2930179.850, y=5185231.716\n"
     ]
    }
   ],
   "source": [
    "# Import transform and CRS functions\n",
    "from pyproj import transform\n",
    "from pyproj import CRS\n",
    "\n",
    "# Function transform is deprecated\n",
    "# Silence warnings\n",
    "import warnings \n",
    "warnings.simplefilter(\"ignore\")\n",
    "\n",
    "# input coordinates\n",
    "c1 = CRS(\"EPSG:4326\")\n",
    "# coordinate pair\n",
    "y1=-10.754283\n",
    "x1=-39.866132\n",
    "# output coordinates\n",
    "c2 = CRS(\"EPSG:31984\")\n",
    "# Coordinate transformation\n",
    "x2, y2 = transform(c1, c2, x1, y1)\n",
    "print(f\"x={x2:9.3f}, y={y2:11.3f}\")"
   ]
  }
 ],
 "metadata": {
  "kernelspec": {
   "display_name": "base",
   "language": "python",
   "name": "python3"
  },
  "language_info": {
   "codemirror_mode": {
    "name": "ipython",
    "version": 3
   },
   "file_extension": ".py",
   "mimetype": "text/x-python",
   "name": "python",
   "nbconvert_exporter": "python",
   "pygments_lexer": "ipython3",
   "version": "3.12.7"
  }
 },
 "nbformat": 4,
 "nbformat_minor": 4
}
