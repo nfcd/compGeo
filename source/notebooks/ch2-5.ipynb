{
 "cells": [
  {
   "cell_type": "markdown",
   "metadata": {},
   "source": [
    "## Transform locations from lat-long to World Mercator\n",
    "\n",
    "We have a csv file with two columns: longitude and latitude. Each coordinate pair is the center of a volcano around the world. There are 1,509 volcanoes in our dataset. The original coordinate reference system is geographic coordinates with datum WGS84. We want to make a coordinate transformation of these data points to World Mercator. It will take much too long to manually transform these coordinates as we have done in the notebooks before. Therefore, our new code will read the csv file and create a new csv file.\n",
    "\n",
    "Check that the input (`src_dir`) and output (`dst_dir`) directories match the directory where the csv file is. In this example, the volcanoes file `volc_longlat.csv`) is in the directory `data/ch2-5`. Run the code, you will know the process is finished when the message \"process completed\" and the time of execution are returned:"
   ]
  },
  {
   "cell_type": "code",
   "execution_count": 1,
   "metadata": {},
   "outputs": [
    {
     "name": "stdout",
     "output_type": "stream",
     "text": [
      "process completed in 0.012643098831176758 seconds\n"
     ]
    }
   ],
   "source": [
    "# Thanks to Rustam Zaitov for implementing \n",
    "# this new version of the code\n",
    "\n",
    "# Import libraries\n",
    "import csv, time\n",
    "from os import path\n",
    "from pyproj import Transformer, CRS\n",
    "\n",
    "src_file = \"volc_longlat.csv\" # input file\n",
    "dst_file = \"volc_projected.csv\" # output file\n",
    "\n",
    "src_dir = path.abspath(\"../data/ch2-5\") # input directory\n",
    "dst_dir = path.abspath(\"../data/ch2-5\") # output directory\n",
    "\n",
    "src_path = path.join(src_dir, src_file)\n",
    "dst_path = path.join(dst_dir, dst_file)\n",
    "\n",
    "src_crs = CRS(\"EPSG:4326\") #WGS84\n",
    "dst_crs = CRS(\"EPSG:3395\") #World Mercator\n",
    "\n",
    "# create coordinate transformer\n",
    "# always_xy=True makes projector.transform() accept \n",
    "# lon, lat (GIS order) instead of lat, lon\n",
    "projector = Transformer.from_crs(src_crs, dst_crs, \n",
    "                                 always_xy=True)\n",
    "\n",
    "# source csv file has lon, lat columns\n",
    "src_header = [\"LONGITUDE\", \"LATITUDE\"]\n",
    "\n",
    "# destinatin csv file will have x, y columns\n",
    "dst_header = [\"x\", \"y\"]\n",
    "\n",
    "# start benchmark timer\n",
    "start_time = time.time()\n",
    "\n",
    "# open destination file in write mode\n",
    "with open(dst_path, \"w\") as w:\n",
    "    # open source file in read mode\n",
    "    with open(src_path, \"r\") as r:\n",
    "        reader = csv.reader(r, dialect=\"excel\")\n",
    "        # read and skip first header row \n",
    "        input_headers = next(reader)         \n",
    "\n",
    "        writer = csv.writer(w, delimiter=\",\", quotechar='\"',\n",
    "                            quoting=csv.QUOTE_MINIMAL)\n",
    "        # Write the output header\n",
    "        writer.writerow(dst_header)   \n",
    "        for row in reader:\n",
    "            try:\n",
    "                # convert string values inside row \n",
    "                # into float values\n",
    "                lon, lat = [float(val) for val in row]\n",
    "                x, y = projector.transform(lon, lat)\n",
    "                writer.writerow([ x, y ])\n",
    "            except Exception as e:\n",
    "                # If coordinates are out of bounds, \n",
    "                # skip row and print the error\n",
    "                print (e)\n",
    "\n",
    "# stop benchmarking\n",
    "end_time = time.time()\n",
    "\n",
    "print(\"process completed in {} seconds\"\n",
    "      .format(end_time-start_time))"
   ]
  },
  {
   "cell_type": "markdown",
   "metadata": {},
   "source": [
    "It takes less than one second to run this code! Check the newly created csv file and notice that you now have a listing of coordinates in meters. The EPSG definition of the output coordinate reference system is listed under `dst_crs`. You can easily change this variable to another EPSG and rerun the script. If you wish to run the script on another file, change the`src_file` and `dst_file`, and the `scr_dir` and `dst_dir` if the file is in another directory."
   ]
  }
 ],
 "metadata": {
  "kernelspec": {
   "display_name": "base",
   "language": "python",
   "name": "python3"
  },
  "language_info": {
   "codemirror_mode": {
    "name": "ipython",
    "version": 3
   },
   "file_extension": ".py",
   "mimetype": "text/x-python",
   "name": "python",
   "nbconvert_exporter": "python",
   "pygments_lexer": "ipython3",
   "version": "3.12.7"
  }
 },
 "nbformat": 4,
 "nbformat_minor": 4
}
