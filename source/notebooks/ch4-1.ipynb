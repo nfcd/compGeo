{
 "cells": [
  {
   "cell_type": "code",
   "execution_count": 1,
   "metadata": {},
   "outputs": [
    {
     "name": "stdout",
     "output_type": "stream",
     "text": [
      "Vector: [1 2 3]\n",
      "Magnitude of the vector: 3.7416573867739413\n",
      "Unit Vector: [0.26726124 0.53452248 0.80178373]\n",
      "Magnitude of the unit vector: 1.0\n"
     ]
    }
   ],
   "source": [
    "# Import numpy\n",
    "import numpy as np\n",
    "# Make vector\n",
    "v = np.array([1,2,3])\n",
    "print(\"Vector:\", v)\n",
    "# Magnitude of the vector\n",
    "length = np.linalg.norm(v) \n",
    "print(\"Magnitude of the vector:\", length)\n",
    "# Unit vector\n",
    "v_hat = v / length\n",
    "print(\"Unit Vector:\", v_hat)\n",
    "# Magnitude of unit vector\n",
    "length = np.linalg.norm(v_hat) \n",
    "print(\"Magnitude of the unit vector:\", length)"
   ]
  }
 ],
 "metadata": {
  "kernelspec": {
   "display_name": "Python 3 (ipykernel)",
   "language": "python",
   "name": "python3"
  },
  "language_info": {
   "codemirror_mode": {
    "name": "ipython",
    "version": 3
   },
   "file_extension": ".py",
   "mimetype": "text/x-python",
   "name": "python",
   "nbconvert_exporter": "python",
   "pygments_lexer": "ipython3",
   "version": "3.11.5"
  }
 },
 "nbformat": 4,
 "nbformat_minor": 4
}
