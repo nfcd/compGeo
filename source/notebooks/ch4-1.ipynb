{
 "cells": [
  {
   "cell_type": "code",
   "execution_count": 1,
   "metadata": {},
   "outputs": [
    {
     "name": "stdout",
     "output_type": "stream",
     "text": [
      "Vector: [1 2 3]\n",
      "Magnitude of the vector: 3.7417\n",
      "Unit Vector: [0.2673 0.5345 0.8018]\n",
      "Magnitude of the unit vector: 1.0000\n"
     ]
    }
   ],
   "source": [
    "# Import numpy\n",
    "import numpy as np\n",
    "# Make vector\n",
    "v = np.array([1,2,3])\n",
    "print(f\"Vector: {v}\")\n",
    "# Magnitude of the vector\n",
    "length = np.linalg.norm(v) \n",
    "print(f\"Magnitude of the vector: {length:.4f}\")\n",
    "# Unit vector\n",
    "v_hat = v / length\n",
    "print(f\"Unit Vector: {np.round(v_hat,4)}\")\n",
    "# Magnitude of unit vector\n",
    "length = np.linalg.norm(v_hat) \n",
    "print(f\"Magnitude of the unit vector: {length:.4f}\")"
   ]
  }
 ],
 "metadata": {
  "kernelspec": {
   "display_name": "base",
   "language": "python",
   "name": "python3"
  },
  "language_info": {
   "codemirror_mode": {
    "name": "ipython",
    "version": 3
   },
   "file_extension": ".py",
   "mimetype": "text/x-python",
   "name": "python",
   "nbconvert_exporter": "python",
   "pygments_lexer": "ipython3",
   "version": "3.12.7"
  }
 },
 "nbformat": 4,
 "nbformat_minor": 4
}
