{
 "cells": [
  {
   "cell_type": "code",
   "execution_count": 1,
   "metadata": {},
   "outputs": [
    {
     "name": "stdout",
     "output_type": "stream",
     "text": [
      "u = [1 2 3]\n",
      "v = [3 2 1]\n",
      "3 * u = [3 6 9]\n",
      "u + v = [4 4 4]\n",
      "u . v = 10\n",
      "u x v = [-4  8 -4]\n"
     ]
    }
   ],
   "source": [
    "# Import numpy\n",
    "import numpy as np\n",
    "# Make vectors\n",
    "u = np.array([1,2,3])\n",
    "v = np.array([3,2,1])\n",
    "print(f\"u = {u}\")\n",
    "print(f\"v = {v}\")\n",
    "# Scalar multiplication of vector\n",
    "sv = 3 * u\n",
    "print(f\"3 * u = {sv}\")\n",
    "# Sum of vectors\n",
    "vsum = u + v\n",
    "print(f\"u + v = {vsum}\")\n",
    "#  Dot product of vectors\n",
    "dotp = np.dot(u,v)\n",
    "print(f\"u . v = {dotp}\")\n",
    "# Cross product of vectors\n",
    "crossp = np.cross(u,v) \n",
    "print(f\"u x v = {crossp}\")"
   ]
  }
 ],
 "metadata": {
  "kernelspec": {
   "display_name": "base",
   "language": "python",
   "name": "python3"
  },
  "language_info": {
   "codemirror_mode": {
    "name": "ipython",
    "version": 3
   },
   "file_extension": ".py",
   "mimetype": "text/x-python",
   "name": "python",
   "nbconvert_exporter": "python",
   "pygments_lexer": "ipython3",
   "version": "3.12.7"
  }
 },
 "nbformat": 4,
 "nbformat_minor": 4
}
