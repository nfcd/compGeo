{
 "cells": [
  {
   "cell_type": "markdown",
   "metadata": {},
   "source": [
    "This notebook illustrates the use of the functions in the module `angles` to solve several interesting problems. Let's start with the following problem: Two limbs of a chevron fold (A and B) have orientations (strike/dip, RHR) as follows:\n",
    "\n",
    "Limb A = 120/40\n",
    "\n",
    "Limb B = 250/60\n",
    "\n",
    "Determine: (a) the trend and plunge of the hinge line of the fold, (b) the rake of the hinge line in limb A, (c) the rake of the hinge line in limb B. "
   ]
  },
  {
   "cell_type": "code",
   "execution_count": 1,
   "metadata": {},
   "outputs": [
    {
     "name": "stdout",
     "output_type": "stream",
     "text": [
      "Hinge trend = 265.8, plunge 25.3\n",
      "Rake of hinge in SW dipping limb = 138.4 E\n",
      "Rake of hinge in NW dipping limb = 29.5 W\n"
     ]
    }
   ],
   "source": [
    "import numpy as np\n",
    "pi = np.pi\n",
    "\n",
    "# Import functions \n",
    "import sys, os\n",
    "sys.path.append(os.path.abspath(\"../functions\"))\n",
    "from angles import angle_bw_lines, int_bw_planes\n",
    "\n",
    "# Strike and dip of the limbs in radians\n",
    "str1, dip1 = np.radians([120, 40])\n",
    "str2, dip2 = np.radians([250, 60])\n",
    "\n",
    "# (a) Chevron folds have planar limbs. The hinge\n",
    "# of the fold is the intersection of the limbs\n",
    "htrd, hplg = int_bw_planes(str1,dip1,str2,dip2)\n",
    "print(\"Hinge trend = {:.1f}, plunge {:.1f}\"\n",
    "      .format(htrd*180/pi,hplg*180/pi))\n",
    "\n",
    "# The rake of the hinge on either limb is the angle \n",
    "# between the hinge and the strike line on the limb. \n",
    "# This line is horizontal and has plunge = 0\n",
    "plg = 0\n",
    "\n",
    "# (b) For the SW dipping limb\n",
    "ang = angle_bw_lines(str1,plg,htrd,hplg)\n",
    "print(\"Rake of hinge in SW dipping limb = {:.1f} E\"\n",
    "      .format(ang*180/pi))\n",
    "\n",
    "# (c) And for the NW dipping limb\n",
    "ang = angle_bw_lines(str2,plg,htrd,hplg)\n",
    "print(\"Rake of hinge in NW dipping limb = {:.1f} W\"\n",
    "      .format(ang*180/pi))"
   ]
  },
  {
   "cell_type": "markdown",
   "metadata": {},
   "source": [
    "Let's do another problem: A quarry has two walls, one trending 002 and the other 135. The apparent dip of bedding on the faces are 40N and 30 SE respectively. Calculate the strike and dip of bedding."
   ]
  },
  {
   "cell_type": "code",
   "execution_count": 2,
   "metadata": {},
   "outputs": [
    {
     "name": "stdout",
     "output_type": "stream",
     "text": [
      "Bedding strike = 333.9, dip 60.7\n"
     ]
    }
   ],
   "source": [
    "# Import function\n",
    "from angles import plane_from_app_dips\n",
    "\n",
    "# The apparent dips are just two lines on bedding\n",
    "# These lines have orientations:\n",
    "trd1, plg1 = np.radians([2, 40])\n",
    "trd2, plg2 = np.radians([135, 30])\n",
    "\n",
    "# Calculate bedding from these two apparent dips\n",
    "strike, dip = plane_from_app_dips(trd1,plg1,trd2,plg2)\n",
    "print(\"Bedding strike = {:.1f}, dip {:.1f}\"\n",
    "      .format(strike*180/pi,dip*180/pi))"
   ]
  },
  {
   "cell_type": "markdown",
   "metadata": {},
   "source": [
    "And the final problem: Slickenside lineations trending 074 occur on a fault with orientation 300/50 (RHR). Determine the plunge of these lineations and their rake in the plane of the fault."
   ]
  },
  {
   "cell_type": "code",
   "execution_count": 3,
   "metadata": {},
   "outputs": [
    {
     "name": "stdout",
     "output_type": "stream",
     "text": [
      "Slickensides trend = 74.0, plunge 40.6\n",
      "Rake of slickensides = 121.8 W\n"
     ]
    }
   ],
   "source": [
    "# The lineation on the fault is just the intersection\n",
    "# of a vertical plane with a strike equal to\n",
    "# the trend of the lineation, and the fault\n",
    "str1, dip1 = np.radians([74, 90])\n",
    "str2, dip2 = np.radians([300, 50])\n",
    "\n",
    "# Find the intersection of these two planes which is\n",
    "# the lineation on the fault\n",
    "ltrd, lplg = int_bw_planes(str1,dip1,str2,dip2)\n",
    "print(\"Slickensides trend = {:.1f}, plunge {:.1f}\"\n",
    "      .format(ltrd*180/pi,lplg*180/pi))\n",
    "\n",
    "# And the rake of this lineation is the angle\n",
    "# between the lineation and the strike line on the fault\n",
    "plg = 0\n",
    "ang = angle_bw_lines(str2,plg,ltrd,lplg)\n",
    "print(\"Rake of slickensides = {:.1f} W\".format(ang*180/pi))"
   ]
  },
  {
   "cell_type": "markdown",
   "metadata": {},
   "source": [
    "There are many interesting problems you can solve using the functions in the module `angles`. You will find more problems in the Exercises section.  "
   ]
  }
 ],
 "metadata": {
  "kernelspec": {
   "display_name": "Python 3 (ipykernel)",
   "language": "python",
   "name": "python3"
  },
  "language_info": {
   "codemirror_mode": {
    "name": "ipython",
    "version": 3
   },
   "file_extension": ".py",
   "mimetype": "text/x-python",
   "name": "python",
   "nbconvert_exporter": "python",
   "pygments_lexer": "ipython3",
   "version": "3.11.5"
  }
 },
 "nbformat": 4,
 "nbformat_minor": 4
}
