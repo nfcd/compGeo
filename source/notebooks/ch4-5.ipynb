{
 "cells": [
  {
   "cell_type": "code",
   "execution_count": 1,
   "metadata": {},
   "outputs": [
    {
     "name": "stdout",
     "output_type": "stream",
     "text": [
      "Plane strike = 84.5, dip = 22.5\n"
     ]
    }
   ],
   "source": [
    "import numpy as np\n",
    "rad = 180/np.pi\n",
    "\n",
    "# Import function three_points\n",
    "import sys, os\n",
    "sys.path.append(os.path.abspath(\"../functions\"))\n",
    "from three_points import three_points\n",
    "\n",
    "# ENU coordinates of the three points\n",
    "p1 = np.array([509, 2041, 400])\n",
    "p2 = np.array([1323, 2362, 500])\n",
    "p3 = np.array([2003, 2913, 700])\n",
    "\n",
    "# Compute the orientation of the plane\n",
    "stk, dip = three_points(p1,p2,p3)\n",
    "print(f\"Plane strike = {stk*rad:.1f}, dip = {dip*rad:.1f}\")"
   ]
  }
 ],
 "metadata": {
  "kernelspec": {
   "display_name": "base",
   "language": "python",
   "name": "python3"
  },
  "language_info": {
   "codemirror_mode": {
    "name": "ipython",
    "version": 3
   },
   "file_extension": ".py",
   "mimetype": "text/x-python",
   "name": "python",
   "nbconvert_exporter": "python",
   "pygments_lexer": "ipython3",
   "version": "3.12.7"
  }
 },
 "nbformat": 4,
 "nbformat_minor": 4
}
