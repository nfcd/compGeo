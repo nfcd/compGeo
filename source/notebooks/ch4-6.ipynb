{
 "cells": [
  {
   "cell_type": "markdown",
   "metadata": {},
   "source": [
    "Suppose that in the first problem on page 64, the uncertainty in strike is 4° and in dip is 2°. This problem can be solved as follows:"
   ]
  },
  {
   "cell_type": "code",
   "execution_count": 1,
   "metadata": {},
   "outputs": [
    {
     "name": "stdout",
     "output_type": "stream",
     "text": [
      "Hinge trend = 265.8+/-3.3, plunge 25.3+/-2.6\n",
      "Rake of hinge in SW dipping limb = 138.4+/-4.6 E\n",
      "Rake of hinge in NW dipping limb = 29.5+/-3.5 W\n"
     ]
    }
   ],
   "source": [
    "# Import libraries\n",
    "import numpy as np\n",
    "rad = 180/np.pi\n",
    "from uncertainties import ufloat\n",
    "\n",
    "# Import functions\n",
    "import sys, os\n",
    "sys.path.append(os.path.abspath(\"../functions\"))\n",
    "from angles_u import angle_bw_lines_u, int_bw_planes_u\n",
    "\n",
    "# Strike and dip of the limbs in radians\n",
    "stk1, dip1 = np.radians([120, 40]) # SW dipping limb\n",
    "stk2, dip2 = np.radians([250, 60]) # NW dipping limb\n",
    "\n",
    "# Errors in strike and dip in radians\n",
    "ustr, udip = np.radians([4, 2])\n",
    "\n",
    "# Create the input values with uncertainties\n",
    "stk1 = ufloat(stk1, ustr)  # stk1 = stk1 +/-ustr\n",
    "dip1 = ufloat(dip1, udip)  # dip1 = dip1 +/-udip\n",
    "stk2 = ufloat(stk2, ustr)  # stk2 = stk2 +/-ustr\n",
    "dip2 = ufloat(dip2, udip)  # dip2 = dip2 +/-udip\n",
    "\n",
    "# (a) Chevron folds have planar limbs. The hinge\n",
    "# of the fold is the intersection of the limbs\n",
    "htrd, hplg = int_bw_planes_u(stk1,dip1,stk2,dip2)\n",
    "print(f\"Hinge trend = {htrd*rad:.1f}, plunge {hplg*rad:.1f}\")\n",
    "\n",
    "# The rake of the hinge on either limb is the angle \n",
    "# between the hinge and the strike line on the limb. \n",
    "# This line is horizontal and has plunge = 0\n",
    "plg = ufloat(0, udip)  # plg = 0 +/-udip\n",
    "\n",
    "# (b) For the SW dipping limb\n",
    "ang = angle_bw_lines_u(stk1,plg,htrd,hplg)\n",
    "print(f\"Rake of hinge in SW dipping limb = {ang*rad:.1f} E\")\n",
    "\n",
    "# (c) And for the NW dipping limb\n",
    "ang = angle_bw_lines_u(stk2,plg,htrd,hplg)\n",
    "print(f\"Rake of hinge in NW dipping limb = {ang*rad:.1f} W\")"
   ]
  },
  {
   "cell_type": "markdown",
   "metadata": {},
   "source": [
    "In the map of Fig. 4.6, the error in East and North coordinates is 10 m, and in elevation is 5 m. What is the strike and dip of the T-S contact? "
   ]
  },
  {
   "cell_type": "code",
   "execution_count": 2,
   "metadata": {},
   "outputs": [
    {
     "name": "stdout",
     "output_type": "stream",
     "text": [
      "Plane strike = 84.5+/-3.5, dip = 22.5+/-2.7\n"
     ]
    }
   ],
   "source": [
    "# Import function three_points_u\n",
    "from three_points_u import three_points_u\n",
    "\n",
    "# ENU coordinates of the three points\n",
    "# with uncertainties in E-N = 10, and U = 5\n",
    "p1 = np.array([ufloat(509, 10), ufloat(2041, 10), \n",
    "               ufloat(400, 5)])\n",
    "p2 = np.array([ufloat(1323, 10), ufloat(2362, 10), \n",
    "               ufloat(500, 5)])\n",
    "p3 = np.array([ufloat(2003, 10), ufloat(2913, 10), \n",
    "               ufloat(700, 5)])\n",
    "\n",
    "# Compute the orientation of the plane\n",
    "stk, dip = three_points_u(p1,p2,p3)\n",
    "print(f\"Plane strike = {stk*rad:.1f}, dip = {dip*rad:.1f}\")"
   ]
  }
 ],
 "metadata": {
  "kernelspec": {
   "display_name": "base",
   "language": "python",
   "name": "python3"
  },
  "language_info": {
   "codemirror_mode": {
    "name": "ipython",
    "version": 3
   },
   "file_extension": ".py",
   "mimetype": "text/x-python",
   "name": "python",
   "nbconvert_exporter": "python",
   "pygments_lexer": "ipython3",
   "version": "3.12.7"
  }
 },
 "nbformat": 4,
 "nbformat_minor": 4
}
