{
 "cells": [
  {
   "cell_type": "code",
   "execution_count": 1,
   "metadata": {},
   "outputs": [
    {
     "name": "stdout",
     "output_type": "stream",
     "text": [
      "Thickness of unit T = 467.2+/-31.5 m\n",
      "Thickness of unit S = 94.6+/-20.4 m\n",
      "Thickness of unit R = 278.6+/-37.0 m\n",
      "Thickness of unit Q = 195.6+/-27.0 m\n"
     ]
    }
   ],
   "source": [
    "# Import libraries\n",
    "import numpy as np\n",
    "pi = np.pi\n",
    "from uncertainties import ufloat\n",
    "\n",
    "# Import function true_thickness_u\n",
    "import sys, os\n",
    "sys.path.append(os.path.abspath(\"../functions\"))\n",
    "from true_thickness_u import true_thickness_u\n",
    "\n",
    "# Strike and dip of the unit in radians\n",
    "strike, dip = np.radians([84.5, 22.5]) \n",
    "\n",
    "# Strike and dip errors in radians\n",
    "ustrike, udip = np.radians([4, 2]) \n",
    "\n",
    "# Create the strike and dip with uncertainties\n",
    "strike = ufloat(strike, ustrike) \n",
    "dip = ufloat(dip, udip)\n",
    "\n",
    "# ENU coordinates of the points\n",
    "# with uncertainties in E-N = 10, and U = 5\n",
    "p1 = np.array([ufloat(1147, 10), ufloat(3329, 10), \n",
    "               ufloat(400, 5)]) \n",
    "p2 = np.array([ufloat(1323, 10), ufloat(2362, 10), \n",
    "               ufloat(500, 5)]) \n",
    "p3 = np.array([ufloat(1105, 10), ufloat(1850, 10), \n",
    "               ufloat(400, 5)]) \n",
    "p4 = np.array([ufloat(1768, 10), ufloat(940, 10), \n",
    "               ufloat(300, 5)]) \n",
    "p5 = np.array([ufloat(1842, 10), ufloat(191, 10), \n",
    "               ufloat(200, 5)])\n",
    "\n",
    "# Compute the thickness of the units\n",
    "thickT = true_thickness_u(strike, dip, p2, p1)\n",
    "thickS = true_thickness_u(strike, dip, p3, p2)\n",
    "thickR = true_thickness_u(strike, dip, p4, p3)\n",
    "thickQ = true_thickness_u(strike, dip, p5, p4) \n",
    "print(\"Thickness of unit T = {:.1f} m\".format(thickT))\n",
    "print(\"Thickness of unit S = {:.1f} m\".format(thickS))\n",
    "print(\"Thickness of unit R = {:.1f} m\".format(thickR))\n",
    "print(\"Thickness of unit Q = {:.1f} m\".format(thickQ))"
   ]
  }
 ],
 "metadata": {
  "kernelspec": {
   "display_name": "Python 3 (ipykernel)",
   "language": "python",
   "name": "python3"
  },
  "language_info": {
   "codemirror_mode": {
    "name": "ipython",
    "version": 3
   },
   "file_extension": ".py",
   "mimetype": "text/x-python",
   "name": "python",
   "nbconvert_exporter": "python",
   "pygments_lexer": "ipython3",
   "version": "3.11.5"
  }
 },
 "nbformat": 4,
 "nbformat_minor": 4
}
