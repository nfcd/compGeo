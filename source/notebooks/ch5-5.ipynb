{
 "cells": [
  {
   "cell_type": "markdown",
   "metadata": {},
   "source": [
    "An overturned bed oriented 305/60 (RHR) has sedimentary lineations which indicate the palaeocurrent direction. These pitch at 60NW, with the current flowing up the plunge. Calculate the original trend of the paleocurrents.\n",
    "\n",
    "Besides rotating the lineations back to their pre-tilted orientation, there is an additional challenge in this problem. We need to figure out the orientation of the current lineations from their pitch on the bed. We will do this as well using a rotation."
   ]
  },
  {
   "cell_type": "code",
   "execution_count": 1,
   "metadata": {},
   "outputs": [
    {
     "name": "stdout",
     "output_type": "stream",
     "text": [
      "Original trend of the paleocurrents = 65.0\n"
     ]
    }
   ],
   "source": [
    "import numpy as np\n",
    "rad = 180/np.pi\n",
    "\n",
    "# Import functions \n",
    "import sys, os\n",
    "sys.path.append(os.path.abspath(\"../functions\"))\n",
    "from zero_twopi import zero_twopi\n",
    "from pole import pole_from_plane\n",
    "from rotate import rotate\n",
    "\n",
    "# Strike and dip of bed in radians\n",
    "strike, dip = np.radians([305, 60]) \n",
    "\n",
    "# Pole of bed\n",
    "rtrd, rplg = pole_from_plane(strike, dip)\n",
    "\n",
    "# To find the orientation of the lineations\n",
    "# rotate the strike line clockwise about the \n",
    "# pole an amount equal to the pitch\n",
    "\n",
    "# strike line\n",
    "trd, plg = strike, 0 \n",
    "\n",
    "# rotation = pitch\n",
    "rot = 60/rad # in radians\n",
    "\n",
    "# orientation of lineations\n",
    "trdr, plgr = rotate(rtrd,rplg,rot,trd,plg,\"a\")\n",
    "\n",
    "# Now we need to rotate the lineations about\n",
    "# the strike line to their pre-tilted orientation\n",
    "\n",
    "# The bed is overturned, so it has been rotated \n",
    "# pass the vertical. The amount of rotation\n",
    "# required to restore the bed to its pre-tilted\n",
    "# orientation is 180- 60 = 120 deg, and it\n",
    "# should be clockwise\n",
    "rot = 120/rad # in radians\n",
    "\n",
    "# rotate lineations to their pre-tilted orientation\n",
    "trdl, plgl = rotate(trd,plg,rot,trdr,plgr,\"a\")\n",
    "\n",
    "# The current flows up the plunge, \n",
    "# so the trend of the paleocurrents is:\n",
    "trdl = zero_twopi(trdl + np.pi)\n",
    "print(f\"Original trend of the paleocurrents = {trdl*rad:.1f}\")"
   ]
  }
 ],
 "metadata": {
  "kernelspec": {
   "display_name": "Python 3 (ipykernel)",
   "language": "python",
   "name": "python3"
  },
  "language_info": {
   "codemirror_mode": {
    "name": "ipython",
    "version": 3
   },
   "file_extension": ".py",
   "mimetype": "text/x-python",
   "name": "python",
   "nbconvert_exporter": "python",
   "pygments_lexer": "ipython3",
   "version": "3.11.5"
  }
 },
 "nbformat": 4,
 "nbformat_minor": 4
}
