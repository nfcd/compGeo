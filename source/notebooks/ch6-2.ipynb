{
 "cells": [
  {
   "cell_type": "code",
   "execution_count": 1,
   "metadata": {},
   "outputs": [
    {
     "name": "stdout",
     "output_type": "stream",
     "text": [
      "Strike = 153.3, Dip = 29.9\n",
      "Standard deviation = 246.8 m\n"
     ]
    }
   ],
   "source": [
    "# Import libraries\n",
    "import numpy as np\n",
    "rad = 180/np.pi\n",
    "\n",
    "# Import function fit_plane\n",
    "import sys, os\n",
    "sys.path.append(os.path.abspath('../functions'))\n",
    "from fit_plane import fit_plane\n",
    "\n",
    "# Read the points on the contact\n",
    "# Coordinates are UTM (ENU) in meters\n",
    "jske = np.loadtxt(os.path.abspath('../data/ch6-2/jske.txt'))\n",
    "\n",
    "# Compute best-fit plane\n",
    "stk, dip, stdev = fit_plane(jske)\n",
    "\n",
    "# Print strike and dip of plane\n",
    "print(f'Strike = {stk*rad:.1f}, Dip = {dip*rad:.1f}')\n",
    "\n",
    "# Print standard deviation of the distance of each point\n",
    "# from the best-fit plane\n",
    "print(f'Standard deviation = {stdev:.1f} m')"
   ]
  }
 ],
 "metadata": {
  "kernelspec": {
   "display_name": "Python 3 (ipykernel)",
   "language": "python",
   "name": "python3"
  },
  "language_info": {
   "codemirror_mode": {
    "name": "ipython",
    "version": 3
   },
   "file_extension": ".py",
   "mimetype": "text/x-python",
   "name": "python",
   "nbconvert_exporter": "python",
   "pygments_lexer": "ipython3",
   "version": "3.11.5"
  }
 },
 "nbformat": 4,
 "nbformat_minor": 4
}
