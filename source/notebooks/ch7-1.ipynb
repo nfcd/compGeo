{
 "cells": [
  {
   "cell_type": "code",
   "execution_count": 1,
   "metadata": {},
   "outputs": [
    {
     "name": "stdout",
     "output_type": "stream",
     "text": [
      "X1, X2 and X3 tractions =  [16.905 20.828 11.651] \n",
      "\n",
      "Sigma = 28.392, Tau = 7.015\n",
      "\n",
      "Stress in new coord. system = \n",
      " [[31.25   3.062  8.75 ]\n",
      " [ 3.062 27.5   -3.062]\n",
      " [ 8.75  -3.062 31.25 ]] \n",
      "\n",
      "Sigma1 = 40.000, Trend = 143.1, Plunge = -90.0\n",
      "Sigma2 = 30.000, Trend = 270.0, Plunge = -0.0\n",
      "Sigma3 = 20.000, Trend = 180.0, Plunge = 0.0\n"
     ]
    }
   ],
   "source": [
    "# Import libraries\n",
    "import numpy as np\n",
    "pi = np.pi\n",
    "\n",
    "# Import Cauchy, TransformStress and PrincipalStress\n",
    "import sys, os\n",
    "sys.path.append(os.path.abspath(\"../functions\"))\n",
    "from cauchy import cauchy \n",
    "from transform_stress import transform_stress\n",
    "from principal_stress import principal_stress\n",
    "\n",
    "# Stress tensor in principal stress coordinate system\n",
    "stress = np.array([[40, 0, 0],[ 0, 30, 0],[ 0, 0, 20]])\n",
    "\n",
    "# trend and plunge of X1, and trend of X3\n",
    "tx1, px1, tx3 = np.radians([0, 90, 0])\n",
    "\n",
    "# plane orientation\n",
    "strike, dip = np.radians([40, 65])\n",
    "\n",
    "# X1, X2 and X3 tractions on the plane\n",
    "t,pt = cauchy(stress,tx1,px1,tx3,strike,dip)\n",
    "print(\"X1, X2 and X3 tractions = \", t.round(3),\"\\n\")\n",
    "\n",
    "# Compute the normal and maximum shear tractions \n",
    "# on the plane: Eq. 7.6\n",
    "l2 = pt[0]**2\n",
    "m2 = pt[1]**2\n",
    "n2 = pt[2]**2\n",
    "s1 = stress[0,0]\n",
    "s2 = stress[1,1]\n",
    "s3 = stress[2,2]\n",
    "s12 = s1 - s2\n",
    "s23 = s2 - s3\n",
    "s31 = s3 - s1\n",
    "sigma = s1*l2 + s2*m2 + s3*n2\n",
    "tau = np.sqrt(s12*s12*l2*m2 + s23*s23*m2*n2 + s31*s31*n2*l2)\n",
    "print(\"Sigma = {:.3f}, Tau = {:.3f}\\n\".format(sigma,tau))\n",
    "\n",
    "# New coordinate system\n",
    "# trend and plunge of X\"1,and trend of X\"3\n",
    "ntx1, npx1, ntx3 = np.radians([30, 45, 210])\n",
    "\n",
    "# Transform stress to new coordinate system\n",
    "nstress = transform_stress(stress,tx1,px1,tx3,ntx1,npx1,ntx3)\n",
    "print(\"Stress in new coord. system = \\n\", \n",
    "      nstress.round(3),\"\\n\")\n",
    "\n",
    "# Principal stresses from new components\n",
    "pstress, dcp = principal_stress(nstress,ntx1,npx1,ntx3)\n",
    "pstress[:,1:3] = pstress[:,1:3]*180/pi\n",
    "print(\"Sigma1 = {:.3f}, Trend = {:.1f}, Plunge = {:.1f}\"\n",
    "      .format(pstress[0,0],pstress[0,1],pstress[0,2]))\n",
    "print(\"Sigma2 = {:.3f}, Trend = {:.1f}, Plunge = {:.1f}\"\n",
    "      .format(pstress[1,0],pstress[1,1],pstress[1,2]))\n",
    "print(\"Sigma3 = {:.3f}, Trend = {:.1f}, Plunge = {:.1f}\"\n",
    "      .format(pstress[2,0],pstress[2,1],pstress[2,2]))"
   ]
  }
 ],
 "metadata": {
  "kernelspec": {
   "display_name": "Python 3 (ipykernel)",
   "language": "python",
   "name": "python3"
  },
  "language_info": {
   "codemirror_mode": {
    "name": "ipython",
    "version": 3
   },
   "file_extension": ".py",
   "mimetype": "text/x-python",
   "name": "python",
   "nbconvert_exporter": "python",
   "pygments_lexer": "ipython3",
   "version": "3.11.5"
  }
 },
 "nbformat": 4,
 "nbformat_minor": 4
}
